{
 "cells": [
  {
   "cell_type": "code",
   "execution_count": 1,
   "metadata": {},
   "outputs": [],
   "source": [
    "import pandas as pd\n",
    "import numpy as np\n",
    "from matplotlib import pyplot as plt"
   ]
  },
  {
   "cell_type": "code",
   "execution_count": 2,
   "metadata": {},
   "outputs": [],
   "source": [
    "def scaler(x,mean,std):\n",
    "  return (x - mean) / std"
   ]
  },
  {
   "cell_type": "code",
   "execution_count": 3,
   "metadata": {},
   "outputs": [],
   "source": [
    "def preprocess(feature):\n",
    "  arr_pp = []\n",
    "  mean = feature.mean().values\n",
    "  std = feature.std().values\n",
    "  for row in feature.values:\n",
    "    arr_pp.append(list(map(scaler, row, mean, std)))\n",
    "  return arr_pp"
   ]
  },
  {
   "cell_type": "code",
   "execution_count": 4,
   "metadata": {},
   "outputs": [],
   "source": [
    "def split_data(data,index):\n",
    "  if(index == 1):\n",
    "    train = data.iloc[:614]\n",
    "    test = data.iloc[614:]\n",
    "  elif(index == 2):\n",
    "    train_1 = data.iloc[:461]\n",
    "    train_2 = data.iloc[615:768]\n",
    "    train = pd.concat([train_1,train_2])\n",
    "    test = data.iloc[461:615]\n",
    "  elif(index == 3):\n",
    "    train_1 = data.iloc[:307]\n",
    "    train_2 = data.iloc[462:768]\n",
    "    train = pd.concat([train_1, train_2])\n",
    "    test = data.iloc[307:462]\n",
    "  elif(index == 4):\n",
    "    train_1 = data.iloc[:154]\n",
    "    train_2 = data.iloc[308:768]\n",
    "    train = pd.concat([train_1,train_2])\n",
    "    test = data.iloc[154:308]\n",
    "  elif(index == 5):\n",
    "    train = data.iloc[155:768]\n",
    "    test = data.iloc[:155]\n",
    "  return train,test"
   ]
  },
  {
   "cell_type": "code",
   "execution_count": 5,
   "metadata": {},
   "outputs": [],
   "source": [
    "def euclidean_distance(x1, x2):\n",
    "  fn = lambda x1_p, x2_p: (x1_p - x2_p) ** 2\n",
    "  return sum(list(map(fn, x1, x2))) ** 0.5"
   ]
  },
  {
   "cell_type": "code",
   "execution_count": 6,
   "metadata": {},
   "outputs": [],
   "source": [
    "def classification(k, test_feature, train_feature, train_label):\n",
    "  label = [(euclidean_distance(test_feature, tr_ftr), tr_lbl) \n",
    "            for tr_ftr, tr_lbl in zip(train_feature, train_label)]\n",
    "  label = sorted(label, key=lambda y: y[0])[:k]\n",
    "  label = [tr_lbl for tr_dist, tr_lbl in label]\n",
    "  label = [label.count(0), label.count(1)]\n",
    "  label = label.index(max(label))\n",
    "  return label"
   ]
  },
  {
   "cell_type": "code",
   "execution_count": 7,
   "metadata": {},
   "outputs": [],
   "source": [
    "def calculate_accuracy(k, test_feature, train_feature, test_label, train_label):\n",
    "  size = len(test_label)\n",
    "  accuracy = sum(1/size for ts_ftr, ts_lbl in zip(test_feature, test_label) \n",
    "                 if classification(k, ts_ftr, train_feature, train_label) == ts_lbl)\n",
    "  return accuracy"
   ]
  },
  {
   "cell_type": "code",
   "execution_count": 8,
   "metadata": {},
   "outputs": [],
   "source": [
    "def cross_validation(max_k, fold):\n",
    "  fold_size = len(fold)\n",
    "  k_accuracy_best, k_best = 0, 0\n",
    "  arr_k =[]\n",
    "  arr_accuracy = []\n",
    "  for k in range(1, max_k+1, 2):\n",
    "    k_accuracy = sum(calculate_accuracy(k, test_feature, train_feature, test_label, train_label) \n",
    "    for test_feature, train_feature, test_label, train_label in fold) / fold_size\n",
    "    if k_accuracy > k_accuracy_best:\n",
    "      k_best = k\n",
    "      arr_k.append(k_best)\n",
    "      k_accuracy_best = k_accuracy\n",
    "      arr_accuracy.append(k_accuracy_best * 100)\n",
    "  plt.title('Rata - rata akurasi')\n",
    "  plt.xlabel('K')\n",
    "  plt.ylabel('Akurasi (%)')\n",
    "  plt.plot(arr_k,arr_accuracy, '-o')\n",
    "  plt.show()\n",
    "  return k_best, k_accuracy_best"
   ]
  },
  {
   "cell_type": "code",
   "execution_count": 10,
   "metadata": {},
   "outputs": [
    {
     "data": {
      "image/png": "[encoded data removed]",
      "text/plain": [
       "<Figure size 432x288 with 1 Axes>"
      ]
     },
     "metadata": {
      "needs_background": "light"
     },
     "output_type": "display_data"
    },
    {
     "data": {
      "text/plain": [
       "(17, 0.7629744449099279)"
      ]
     },
     "execution_count": 10,
     "metadata": {},
     "output_type": "execute_result"
    }
   ],
   "source": [
    "df = pd.read_csv('Diabetes.csv')\n",
    "fold = []\n",
    "for i in range(1, 6):\n",
    "  train, test = split_data(df, i)\n",
    "  test_feature = test.drop('Outcome', axis=1)\n",
    "  test_label = test['Outcome'].to_numpy()\n",
    "  train_feature = train.drop('Outcome', axis=1)\n",
    "  train_label = train['Outcome'].to_numpy()\n",
    "  test_feature = preprocess(test_feature)\n",
    "  train_feature = preprocess(train_feature)\n",
    "  fold.append((test_feature, train_feature, test_label, train_label))\n",
    "\n",
    "cross_validation(20, fold)"
   ]
  },
  {
   "cell_type": "code",
   "execution_count": null,
   "metadata": {},
   "outputs": [],
   "source": []
  }
 ],
 "metadata": {
  "kernelspec": {
   "display_name": "Python 3",
   "language": "python",
   "name": "python3"
  },
  "language_info": {
   "codemirror_mode": {
    "name": "ipython",
    "version": 3
   },
   "file_extension": ".py",
   "mimetype": "text/x-python",
   "name": "python",
   "nbconvert_exporter": "python",
   "pygments_lexer": "ipython3",
   "version": "3.7.6"
  }
 },
 "nbformat": 4,
 "nbformat_minor": 4
}
